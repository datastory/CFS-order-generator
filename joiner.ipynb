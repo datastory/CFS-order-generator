{
 "cells": [
  {
   "cell_type": "code",
   "execution_count": null,
   "metadata": {
    "collapsed": false
   },
   "outputs": [],
   "source": [
    "from random import randint\n",
    "import os\n",
    "from pydub import AudioSegment"
   ]
  },
  {
   "cell_type": "code",
   "execution_count": null,
   "metadata": {
    "collapsed": false
   },
   "outputs": [],
   "source": [
    "def randomizer():\n",
    "    tracks = []\n",
    "    tracks.append('sil_' + str(randint(3, 6)))\n",
    "\n",
    "    count = 1\n",
    "    while (count < randint(4, 5)):\n",
    "        count = count + 1\n",
    "        tracks.append('povel_' + str(randint(1, 6)))\n",
    "\n",
    "    tracks.append('sil_' + str(randint(3, 6)))\n",
    "    return tracks"
   ]
  },
  {
   "cell_type": "code",
   "execution_count": null,
   "metadata": {
    "collapsed": false
   },
   "outputs": [],
   "source": [
    "sest = randomizer()\n",
    "name = 'pov_' + '_'.join(sest[1:-1]).replace('povel_', '') + '.mp3'\n",
    "\n",
    "#3 sec. time between calls\n",
    "sest.insert(2, 'sil_3')\n",
    "sest.insert(4, 'sil_3')\n",
    "if len(sest) == 8:\n",
    "    sest.insert(6, 'sil_3')\n",
    "    \n",
    "if name not in os.listdir('./povely/'):\n",
    "    combined = 'x'\n",
    "    for file in sest:\n",
    "        if combined == 'x':\n",
    "            combined = AudioSegment.from_wav('./audio/' + file + '.wav')\n",
    "        else:\n",
    "            combined = combined + AudioSegment.from_wav('./audio/' + file + '.wav')\n",
    "\n",
    "    combined.export('./povely/' + name, format='mp3', tags={'artist': 'CFS', 'album': 'Střelecké povely'})"
   ]
  }
 ],
 "metadata": {
  "anaconda-cloud": {},
  "kernelspec": {
   "display_name": "Python [conda root]",
   "language": "python",
   "name": "conda-root-py"
  },
  "language_info": {
   "codemirror_mode": {
    "name": "ipython",
    "version": 3
   },
   "file_extension": ".py",
   "mimetype": "text/x-python",
   "name": "python",
   "nbconvert_exporter": "python",
   "pygments_lexer": "ipython3",
   "version": "3.5.2"
  }
 },
 "nbformat": 4,
 "nbformat_minor": 1
}
